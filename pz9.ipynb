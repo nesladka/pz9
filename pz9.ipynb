{
 "cells": [
  {
   "cell_type": "code",
   "execution_count": 1,
   "metadata": {},
   "outputs": [],
   "source": [
    "from fuzzywuzzy import fuzz\n",
    "from fuzzywuzzy import process\n",
    "from Levenshtein import distance as lev\n",
    "import time"
   ]
  },
  {
   "cell_type": "markdown",
   "metadata": {},
   "source": [
    "Функция Ливенштейн"
   ]
  },
  {
   "cell_type": "code",
   "execution_count": 11,
   "metadata": {},
   "outputs": [],
   "source": [
    "def leven(str1, str2):\n",
    "    len_str1, len_str2 = len(str1), len(str2)\n",
    "\n",
    "    if len_str1 > len_str2:\n",
    "        str1, str2 = str2, str1\n",
    "        len_str1, len_str2 = len_str2, len_str1\n",
    "\n",
    "    current_row = range(len_str1 + 1)\n",
    "\n",
    "    for i in range(1, len_str2 + 1):\n",
    "        previous_row, current_row = current_row, [i] + [0] * len_str1\n",
    "\n",
    "        for j in range(1, len_str1 + 1):\n",
    "            add, delete, change = previous_row[j] + 1, current_row[j - 1] + 1, previous_row[j - 1]\n",
    "            \n",
    "            if str1[j - 1] != str2[i - 1]:\n",
    "                change += 1\n",
    "\n",
    "            current_row[j] = min(add, delete, change)\n",
    "\n",
    "    return current_row[len_str1]\n"
   ]
  },
  {
   "cell_type": "markdown",
   "metadata": {},
   "source": [
    "<i>1. Самое обычное сравнение</i>"
   ]
  },
  {
   "cell_type": "code",
   "execution_count": 3,
   "metadata": {},
   "outputs": [
    {
     "name": "stdout",
     "output_type": "stream",
     "text": [
      "100\n",
      "Время выполнения: 0.0016217231750488281 секунд\n",
      "84\n"
     ]
    }
   ],
   "source": [
    "start_time = time.time()\n",
    "\n",
    "a = fuzz.ratio('Привет мир', 'Привет мир')\n",
    "print(a)\n",
    "\n",
    "end_time = time.time()\n",
    "execution_time = end_time - start_time\n",
    "\n",
    "print(f\"Время выполнения: {execution_time} секунд\")\n",
    "\n",
    "a = fuzz.ratio('Привет мир', 'Привт кир')\n",
    "print(a)"
   ]
  },
  {
   "cell_type": "code",
   "execution_count": 15,
   "metadata": {},
   "outputs": [
    {
     "name": "stdout",
     "output_type": "stream",
     "text": [
      "0\n",
      "Время выполнения: 0.002025604248046875 секунд\n"
     ]
    }
   ],
   "source": [
    "start_time = time.time()\n",
    "a = leven('Привет мир', 'Привет мир')\n",
    "print(a)\n",
    "\n",
    "end_time = time.time()\n",
    "execution_time = end_time - start_time\n",
    "\n",
    "print(f\"Время выполнения: {execution_time} секунд\")"
   ]
  },
  {
   "cell_type": "code",
   "execution_count": 16,
   "metadata": {},
   "outputs": [
    {
     "name": "stdout",
     "output_type": "stream",
     "text": [
      "0\n",
      "Время выполнения: 0.0016880035400390625 секунд\n"
     ]
    }
   ],
   "source": [
    "start_time = time.time()\n",
    "a = lev('Привет мир', 'Привет мир')\n",
    "print(a)\n",
    "\n",
    "end_time = time.time()\n",
    "execution_time = end_time - start_time\n",
    "\n",
    "print(f\"Время выполнения: {execution_time} секунд\")"
   ]
  },
  {
   "cell_type": "markdown",
   "metadata": {},
   "source": [
    "fuzzywuzzy выводит процент сходства 1-й строки со 2-й, а функция - кол-во отичныx символов."
   ]
  },
  {
   "cell_type": "markdown",
   "metadata": {},
   "source": [
    "<i>2. Частичное сравнение</i>"
   ]
  },
  {
   "cell_type": "code",
   "execution_count": 17,
   "metadata": {},
   "outputs": [
    {
     "name": "stdout",
     "output_type": "stream",
     "text": [
      "100\n",
      "100\n",
      "90\n",
      "Время выполнения: 0.02184319496154785 секунд\n"
     ]
    }
   ],
   "source": [
    "start_time = time.time()\n",
    "\n",
    "a = fuzz.partial_ratio('Привет мир', 'Привет мир!')\n",
    "print(a)\n",
    "a = fuzz.partial_ratio('Привет мир', 'Люблю колбасу, Привет мир')\n",
    "print(a)\n",
    "a = fuzz.partial_ratio('Привет мир', 'Люблю колбасу, привет мир')\n",
    "print(a) \n",
    "\n",
    "end_time = time.time()\n",
    "execution_time = end_time - start_time\n",
    "\n",
    "print(f\"Время выполнения: {execution_time} секунд\")"
   ]
  },
  {
   "cell_type": "code",
   "execution_count": 19,
   "metadata": {},
   "outputs": [
    {
     "name": "stdout",
     "output_type": "stream",
     "text": [
      "1\n",
      "15\n",
      "16\n",
      "Время выполнения: 0.004071235656738281 секунд\n"
     ]
    }
   ],
   "source": [
    "start_time = time.time()\n",
    "\n",
    "def leven(str_1, str_2):\n",
    "    n, m = len(str_1), len(str_2)\n",
    "    if n > m:\n",
    "        str_1, str_2 = str_2, str_1\n",
    "        n, m = m, n\n",
    "\n",
    "    current_row = range(n + 1)\n",
    "    for i in range(1, m + 1):\n",
    "        previous_row, current_row = current_row, [i] + [0] * n\n",
    "        for j in range(1, n + 1):\n",
    "            add, delete, change = previous_row[j] + 1, current_row[j - 1] + 1, previous_row[j - 1]\n",
    "            if str_1[j - 1] != str_2[i - 1]:\n",
    "                change += 1\n",
    "            current_row[j] = min(add, delete, change)\n",
    "\n",
    "    similarity = 0 if n == m and current_row[n] == 0 else current_row[n]\n",
    "\n",
    "    return similarity\n",
    "\n",
    "result = leven('Привет мир', 'Привет мир!')\n",
    "print(result)\n",
    "\n",
    "result = leven('Привет мир', 'Люблю колбасу, Привет мир')\n",
    "print(result)\n",
    "\n",
    "result = leven('Привет мир', 'Люблю колбасу, привет мир')\n",
    "print(result)\n",
    "\n",
    "end_time = time.time()\n",
    "execution_time = end_time - start_time\n",
    "\n",
    "print(f\"Время выполнения: {execution_time} секунд\")"
   ]
  },
  {
   "cell_type": "code",
   "execution_count": 23,
   "metadata": {},
   "outputs": [
    {
     "name": "stdout",
     "output_type": "stream",
     "text": [
      "1\n",
      "15\n",
      "16\n",
      "Время выполнения: 0.0045816898345947266 секунд\n"
     ]
    }
   ],
   "source": [
    "start_time = time.time()\n",
    "\n",
    "result = lev('Привет мир', 'Привет мир!')\n",
    "print(result)\n",
    "result = lev('Привет мир', 'Люблю колбасу, Привет мир')\n",
    "print(result)\n",
    "result = lev('Привет мир', 'Люблю колбасу, привет мир')\n",
    "print(result)\n",
    "\n",
    "end_time = time.time()\n",
    "execution_time = end_time - start_time\n",
    "\n",
    "print(f\"Время выполнения: {execution_time} секунд\")"
   ]
  },
  {
   "cell_type": "markdown",
   "metadata": {},
   "source": [
    "fuzzywuzzy выводит процент частичного сходства 1-й строки со 2-й, а функция levenstein выводит количество отличных символов, как и lev. "
   ]
  },
  {
   "cell_type": "markdown",
   "metadata": {},
   "source": [
    "<i>3. Сравнение по токену</i>"
   ]
  },
  {
   "cell_type": "markdown",
   "metadata": {},
   "source": [
    "<i>1) Token Sort Ratio</i>"
   ]
  },
  {
   "cell_type": "code",
   "execution_count": 24,
   "metadata": {},
   "outputs": [
    {
     "name": "stdout",
     "output_type": "stream",
     "text": [
      "100\n",
      "78\n",
      "100\n",
      "Время выполнения: 0.003004312515258789 секунд\n"
     ]
    }
   ],
   "source": [
    "start_time = time.time()\n",
    "\n",
    "a = fuzz.token_sort_ratio('Привет наш мир', 'мир наш Привет')\n",
    "print(a)\n",
    "a = fuzz.token_sort_ratio('Привет наш мир', 'мир наш любимый Привет')\n",
    "print(a)\n",
    "a = fuzz.token_sort_ratio('1 2 Привет наш мир', '1 мир наш 2 ПриВЕт')\n",
    "print(a)\n",
    "\n",
    "end_time = time.time()\n",
    "execution_time = end_time - start_time\n",
    "\n",
    "print(f\"Время выполнения: {execution_time} секунд\")"
   ]
  },
  {
   "cell_type": "code",
   "execution_count": 25,
   "metadata": {},
   "outputs": [
    {
     "name": "stdout",
     "output_type": "stream",
     "text": [
      "0\n",
      "8\n",
      "2\n",
      "Время выполнения: 0.00644993782043457 секунд\n"
     ]
    }
   ],
   "source": [
    "start_time = time.time()\n",
    "\n",
    "def token_sort_ratio_l(str_1, str_2):\n",
    "    tokens_1 = sorted(str_1.split())\n",
    "    tokens_2 = sorted(str_2.split())\n",
    "\n",
    "    ratio = leven(' '.join(tokens_1), ' '.join(tokens_2))\n",
    "    return ratio\n",
    "a = token_sort_ratio_l('Привет наш мир', 'мир наш Привет')\n",
    "print(a)\n",
    "a = token_sort_ratio_l('Привет наш мир', 'мир наш любимый Привет')\n",
    "print(a)\n",
    "a = token_sort_ratio_l('1 2 Привет наш мир', '1 мир наш 2 ПриВЕт')\n",
    "print(a)\n",
    "\n",
    "end_time = time.time()\n",
    "execution_time = end_time - start_time\n",
    "\n",
    "print(f\"Время выполнения: {execution_time} секунд\")"
   ]
  },
  {
   "cell_type": "markdown",
   "metadata": {},
   "source": [
    "<i>2) Token Set Ratio</i>"
   ]
  },
  {
   "cell_type": "code",
   "execution_count": 28,
   "metadata": {},
   "outputs": [
    {
     "name": "stdout",
     "output_type": "stream",
     "text": [
      "100\n",
      "Время выполнения: 0.0027387142181396484 секунд\n"
     ]
    }
   ],
   "source": [
    "start_time = time.time()\n",
    "a = fuzz.token_set_ratio('Привет наш мир', 'мир мир наш наш наш ПриВЕт')\n",
    "print(a)\n",
    "\n",
    "end_time = time.time()\n",
    "execution_time = end_time - start_time\n",
    "\n",
    "print(f\"Время выполнения: {execution_time} секунд\")"
   ]
  },
  {
   "cell_type": "code",
   "execution_count": 30,
   "metadata": {},
   "outputs": [
    {
     "name": "stdout",
     "output_type": "stream",
     "text": [
      "2\n",
      "Время выполнения: 0.0019941329956054688 секунд\n"
     ]
    }
   ],
   "source": [
    "start_time = time.time()\n",
    "def token_set_ratio(str_1, str_2):\n",
    "    tokens_1 = set(str_1.split())\n",
    "    tokens_2 = set(str_2.split())\n",
    "\n",
    "    ratio = leven(' '.join(tokens_1), ' '.join(tokens_2))\n",
    "    return ratio\n",
    "\n",
    "a = token_set_ratio('Привет наш мир', 'мир мир наш наш наш ПриВЕт')\n",
    "print(a)\n",
    "\n",
    "end_time = time.time()\n",
    "execution_time = end_time - start_time\n",
    "\n",
    "print(f\"Время выполнения: {execution_time} секунд\")"
   ]
  },
  {
   "cell_type": "markdown",
   "metadata": {},
   "source": [
    "в fuzzywuzzy слова сравниваются друг с другом, независимо от регистра или порядка, а функция levenstein выводит количество различных символов при сравнении слов друг с другом независимо от регистра и порядка."
   ]
  },
  {
   "cell_type": "markdown",
   "metadata": {},
   "source": [
    "<i>4. Продвинутое обычное сравнение</i>"
   ]
  },
  {
   "cell_type": "code",
   "execution_count": 31,
   "metadata": {},
   "outputs": [
    {
     "name": "stdout",
     "output_type": "stream",
     "text": [
      "100\n",
      "97\n",
      "Время выполнения: 0.0029327869415283203 секунд\n"
     ]
    }
   ],
   "source": [
    "start_time = time.time()\n",
    "a = fuzz.WRatio('Привет наш мир', '!ПриВЕт наш мир!')\n",
    "print(a)\n",
    "a = fuzz.WRatio('Привет наш мир', '!ПриВЕт, наш мир!')\n",
    "print(a)\n",
    "end_time = time.time()\n",
    "execution_time = end_time - start_time\n",
    "\n",
    "print(f\"Время выполнения: {execution_time} секунд\")"
   ]
  },
  {
   "cell_type": "code",
   "execution_count": 34,
   "metadata": {},
   "outputs": [
    {
     "name": "stdout",
     "output_type": "stream",
     "text": [
      "2\n",
      "3\n",
      "Время выполнения: 0.004590034484863281 секунд\n"
     ]
    }
   ],
   "source": [
    "start_time = time.time()\n",
    "def WRatio(str_1, str_2):\n",
    "    str_1 = str_1.lower()\n",
    "    str_2 = str_2.lower()\n",
    "\n",
    "    ratio = leven(str_1, str_2)\n",
    "    return ratio\n",
    "\n",
    "a = WRatio('Привет наш мир', '!ПриВЕт наш мир!')\n",
    "print(a)\n",
    "a = WRatio('Привет наш мир', '!ПриВЕт, наш мир!')\n",
    "print(a)\n",
    "end_time = time.time()\n",
    "execution_time = end_time - start_time\n",
    "\n",
    "print(f\"Время выполнения: {execution_time} секунд\")"
   ]
  },
  {
   "cell_type": "markdown",
   "metadata": {},
   "source": [
    "fuzzywuzzy выводит процент частичного сходства 1-й строки со 2-й, а функция levenstein выводит количество отличных символов."
   ]
  },
  {
   "cell_type": "markdown",
   "metadata": {},
   "source": [
    "<i>5. Работа со списком</i>"
   ]
  },
  {
   "cell_type": "code",
   "execution_count": 36,
   "metadata": {},
   "outputs": [
    {
     "name": "stdout",
     "output_type": "stream",
     "text": [
      "[('Саратов', 100), ('Самара', 62)]\n",
      "('Красногорск', 90)\n",
      "Время выполнения: 0.007130622863769531 секунд\n"
     ]
    }
   ],
   "source": [
    "start_time = time.time()\n",
    "city = [\"Москва\", \"Санкт-Петербург\", \"Саратов\", \"Краснодар\", \"Воронеж\", \"Омск\", \"Екатеринбург\", \"Орск\", \"Красногорск\", \"Красноярск\", \"Самара\"]\n",
    "a = process.extract(\"Саратов\", city, limit=2)\n",
    "print(a)\n",
    "city = [\"Москва\", \"Санкт-Петербург\", \"Саратов\", \"Краснодар\", \"Воронеж\", \"Омск\", \"Екатеринбург\", \"Орск\", \"Красногорск\", \"Красноярск\", \"Самара\"]\n",
    "a = process.extractOne(\"Краногрск\", city)\n",
    "print(a)\n",
    "end_time = time.time()\n",
    "execution_time = end_time - start_time\n",
    "\n",
    "print(f\"Время выполнения: {execution_time} секунд\")\n"
   ]
  },
  {
   "cell_type": "markdown",
   "metadata": {},
   "source": [
    "Функция библиотеки fuzz выводит процент сходства первой строки с элементом из списка."
   ]
  }
 ],
 "metadata": {
  "kernelspec": {
   "display_name": "Python 3",
   "language": "python",
   "name": "python3"
  },
  "language_info": {
   "codemirror_mode": {
    "name": "ipython",
    "version": 3
   },
   "file_extension": ".py",
   "mimetype": "text/x-python",
   "name": "python",
   "nbconvert_exporter": "python",
   "pygments_lexer": "ipython3",
   "version": "3.11.6"
  }
 },
 "nbformat": 4,
 "nbformat_minor": 2
}
